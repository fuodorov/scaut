{
 "cells": [
  {
   "cell_type": "markdown",
   "id": "d951d876-21fd-4d1a-b0ec-924ae2d7b740",
   "metadata": {},
   "source": [
    "## Scan"
   ]
  },
  {
   "cell_type": "code",
   "execution_count": 3,
   "id": "ba285189-9e01-42a0-b804-afa348b7be76",
   "metadata": {},
   "outputs": [],
   "source": [
    "import sys\n",
    "\n",
    "sys.path.append(\"../\")"
   ]
  },
  {
   "cell_type": "code",
   "execution_count": 4,
   "id": "daa3862b-75cf-4c66-aa99-3ae5d0f61caa",
   "metadata": {},
   "outputs": [],
   "source": [
    "from settings import prod\n",
    "from scaut.scan import scan\n",
    "from scaut.scan.decorators import add_noise, add_plot_params\n",
    "from scaut.scan.utils import clear_output, plot_generic_data\n",
    "from scaut.core import config as cfg"
   ]
  },
  {
   "cell_type": "code",
   "execution_count": 5,
   "id": "14f808ac-69bb-497e-9ce1-3f3a30fa410b",
   "metadata": {},
   "outputs": [
    {
     "ename": "KeyboardInterrupt",
     "evalue": "",
     "output_type": "error",
     "traceback": [
      "\u001b[0;31m---------------------------------------------------------------------------\u001b[0m",
      "\u001b[0;31mKeyboardInterrupt\u001b[0m                         Traceback (most recent call last)",
      "Cell \u001b[0;32mIn[5], line 1\u001b[0m\n\u001b[0;32m----> 1\u001b[0m prod_scan \u001b[38;5;241m=\u001b[39m scan(\n\u001b[1;32m      2\u001b[0m     motors\u001b[38;5;241m=\u001b[39mprod\u001b[38;5;241m.\u001b[39mALL_HORIZONTAL_CK_CORRECTORS,\n\u001b[1;32m      3\u001b[0m     meters\u001b[38;5;241m=\u001b[39mprod\u001b[38;5;241m.\u001b[39mALL_HORIZONTAL_POSITION_MONITORS,\n\u001b[1;32m      4\u001b[0m     checks\u001b[38;5;241m=\u001b[39mprod\u001b[38;5;241m.\u001b[39mALL_CURRENT_MONITORS,\n\u001b[1;32m      5\u001b[0m     get_func\u001b[38;5;241m=\u001b[39mprod\u001b[38;5;241m.\u001b[39mGET_FUNC, \n\u001b[1;32m      6\u001b[0m     put_func\u001b[38;5;241m=\u001b[39mprod\u001b[38;5;241m.\u001b[39mPUT_FUNC,\n\u001b[1;32m      7\u001b[0m     verify_motor\u001b[38;5;241m=\u001b[39mprod\u001b[38;5;241m.\u001b[39mVERIFY_MOTOR, \n\u001b[1;32m      8\u001b[0m     max_retries\u001b[38;5;241m=\u001b[39mprod\u001b[38;5;241m.\u001b[39mMAX_TRIES,\n\u001b[1;32m      9\u001b[0m     delay\u001b[38;5;241m=\u001b[39mprod\u001b[38;5;241m.\u001b[39mDELAY,\n\u001b[1;32m     10\u001b[0m     tolerance\u001b[38;5;241m=\u001b[39mprod\u001b[38;5;241m.\u001b[39mTOLERANCE,\n\u001b[1;32m     11\u001b[0m     sample_size\u001b[38;5;241m=\u001b[39mprod\u001b[38;5;241m.\u001b[39mSAMPLE_SIZE,\n\u001b[1;32m     12\u001b[0m     save\u001b[38;5;241m=\u001b[39mprod\u001b[38;5;241m.\u001b[39mSAVE_SCAN,\n\u001b[1;32m     13\u001b[0m     path\u001b[38;5;241m=\u001b[39mprod\u001b[38;5;241m.\u001b[39mDIRNAME_DATA,\n\u001b[1;32m     14\u001b[0m     callback\u001b[38;5;241m=\u001b[39m[\n\u001b[1;32m     15\u001b[0m         clear_output, \n\u001b[1;32m     16\u001b[0m         add_plot_params(\n\u001b[1;32m     17\u001b[0m             \u001b[38;5;124m\"\u001b[39m\u001b[38;5;124mmeters\u001b[39m\u001b[38;5;124m\"\u001b[39m, \u001b[38;5;124m\"\u001b[39m\u001b[38;5;124mmeter_data\u001b[39m\u001b[38;5;124m\"\u001b[39m, \u001b[38;5;124m\"\u001b[39m\u001b[38;5;124mHorizontal Position\u001b[39m\u001b[38;5;124m\"\u001b[39m, \u001b[38;5;124m\"\u001b[39m\u001b[38;5;124mDevices\u001b[39m\u001b[38;5;124m\"\u001b[39m, \u001b[38;5;124m\"\u001b[39m\u001b[38;5;124mx, mm\u001b[39m\u001b[38;5;124m\"\u001b[39m, \u001b[38;5;124m\"\u001b[39m\u001b[38;5;124mmeter_ranges\u001b[39m\u001b[38;5;124m\"\u001b[39m, \u001b[38;5;124m\"\u001b[39m\u001b[38;5;124mmeter_errors\u001b[39m\u001b[38;5;124m\"\u001b[39m\n\u001b[1;32m     18\u001b[0m         )(plot_generic_data)\n\u001b[1;32m     19\u001b[0m     ], \n\u001b[1;32m     20\u001b[0m     save_original_motor_values\u001b[38;5;241m=\u001b[39mprod\u001b[38;5;241m.\u001b[39mSAVE_ORIGINAL_MOTOR_VALUES,\n\u001b[1;32m     21\u001b[0m     parallel\u001b[38;5;241m=\u001b[39mprod\u001b[38;5;241m.\u001b[39mPARALLEL,\n\u001b[1;32m     22\u001b[0m     strict_check\u001b[38;5;241m=\u001b[39mprod\u001b[38;5;241m.\u001b[39mSTRICT_CHECK,\n\u001b[1;32m     23\u001b[0m )\n",
      "File \u001b[0;32m~/Work/skif-utils/notebooks/../scaut/scan/__init__.py:90\u001b[0m, in \u001b[0;36mscan\u001b[0;34m(meters, motors, checks, get_func, put_func, verify_motor, max_retries, delay, tolerance, previous_scan, save, path, name, callback, save_original_motor_values, sample_size, parallel, repeat, strict_check)\u001b[0m\n\u001b[1;32m     88\u001b[0m \u001b[38;5;28;01mexcept\u001b[39;00m \u001b[38;5;167;01mKeyboardInterrupt\u001b[39;00m \u001b[38;5;28;01mas\u001b[39;00m e:\n\u001b[1;32m     89\u001b[0m     scan_logger\u001b[38;5;241m.\u001b[39merror(\u001b[38;5;124m\"\u001b[39m\u001b[38;5;124mScan process stopped by user\u001b[39m\u001b[38;5;124m\"\u001b[39m)\n\u001b[0;32m---> 90\u001b[0m     \u001b[38;5;28;01mraise\u001b[39;00m e\n\u001b[1;32m     92\u001b[0m \u001b[38;5;28;01mexcept\u001b[39;00m \u001b[38;5;167;01mException\u001b[39;00m \u001b[38;5;28;01mas\u001b[39;00m e:\n\u001b[1;32m     93\u001b[0m     scan_logger\u001b[38;5;241m.\u001b[39mexception(\u001b[38;5;124mf\u001b[39m\u001b[38;5;124m\"\u001b[39m\u001b[38;5;124mError during scan process: \u001b[39m\u001b[38;5;132;01m{\u001b[39;00me\u001b[38;5;132;01m}\u001b[39;00m\u001b[38;5;124m\"\u001b[39m)\n",
      "File \u001b[0;32m~/Work/skif-utils/notebooks/../scaut/scan/__init__.py:62\u001b[0m, in \u001b[0;36mscan\u001b[0;34m(meters, motors, checks, get_func, put_func, verify_motor, max_retries, delay, tolerance, previous_scan, save, path, name, callback, save_original_motor_values, sample_size, parallel, repeat, strict_check)\u001b[0m\n\u001b[1;32m     60\u001b[0m \u001b[38;5;28;01mfor\u001b[39;00m step_index, combination \u001b[38;5;129;01min\u001b[39;00m \u001b[38;5;28menumerate\u001b[39m(all_combinations\u001b[38;5;241m*\u001b[39mrepeat):\n\u001b[1;32m     61\u001b[0m     scan_logger\u001b[38;5;241m.\u001b[39minfo(\u001b[38;5;124mf\u001b[39m\u001b[38;5;124m\"\u001b[39m\u001b[38;5;124mStep \u001b[39m\u001b[38;5;132;01m{\u001b[39;00mstep_index\u001b[38;5;250m \u001b[39m\u001b[38;5;241m+\u001b[39m\u001b[38;5;250m \u001b[39m\u001b[38;5;241m1\u001b[39m\u001b[38;5;132;01m}\u001b[39;00m\u001b[38;5;124m/\u001b[39m\u001b[38;5;132;01m{\u001b[39;00m\u001b[38;5;28mlen\u001b[39m(all_combinations)\u001b[38;5;132;01m}\u001b[39;00m\u001b[38;5;124m: Setting motor combination: \u001b[39m\u001b[38;5;132;01m{\u001b[39;00mcombination\u001b[38;5;132;01m}\u001b[39;00m\u001b[38;5;124m\"\u001b[39m)\n\u001b[0;32m---> 62\u001b[0m     set_motors_values(motor_names, combination, get_func, put_func, verify_motor, max_retries, delay, tolerance, parallel)\n\u001b[1;32m     63\u001b[0m     check_data, check_errors \u001b[38;5;241m=\u001b[39m get_meters_data(check_names, get_func, sample_size, delay, parallel, check_ranges, strict_check)\n\u001b[1;32m     64\u001b[0m     scan_logger\u001b[38;5;241m.\u001b[39minfo(\u001b[38;5;124mf\u001b[39m\u001b[38;5;124m\"\u001b[39m\u001b[38;5;124mCollected data from checks: \u001b[39m\u001b[38;5;132;01m{\u001b[39;00mcheck_data\u001b[38;5;132;01m}\u001b[39;00m\u001b[38;5;124m\"\u001b[39m)\n",
      "File \u001b[0;32m~/Work/skif-utils/notebooks/../scaut/scan/utils.py:78\u001b[0m, in \u001b[0;36mset_motors_values\u001b[0;34m(motor_names, combination, get_func, put_func, verify_motor, max_retries, delay, tolerance, parallel)\u001b[0m\n\u001b[1;32m     63\u001b[0m     \u001b[38;5;28;01mwith\u001b[39;00m concurrent\u001b[38;5;241m.\u001b[39mfutures\u001b[38;5;241m.\u001b[39mThreadPoolExecutor() \u001b[38;5;28;01mas\u001b[39;00m executor:\n\u001b[1;32m     64\u001b[0m         futures \u001b[38;5;241m=\u001b[39m {\n\u001b[1;32m     65\u001b[0m             executor\u001b[38;5;241m.\u001b[39msubmit(\n\u001b[1;32m     66\u001b[0m                 set_motor_value,\n\u001b[0;32m   (...)\u001b[0m\n\u001b[1;32m     76\u001b[0m             \u001b[38;5;28;01mfor\u001b[39;00m motor_name, motor_value \u001b[38;5;129;01min\u001b[39;00m \u001b[38;5;28mzip\u001b[39m(motor_names, combination)\n\u001b[1;32m     77\u001b[0m         }\n\u001b[0;32m---> 78\u001b[0m         \u001b[38;5;28;01mfor\u001b[39;00m future \u001b[38;5;129;01min\u001b[39;00m tqdm_notebook(\n\u001b[1;32m     79\u001b[0m             concurrent\u001b[38;5;241m.\u001b[39mfutures\u001b[38;5;241m.\u001b[39mas_completed(futures),\n\u001b[1;32m     80\u001b[0m             total\u001b[38;5;241m=\u001b[39m\u001b[38;5;28mlen\u001b[39m(futures),\n\u001b[1;32m     81\u001b[0m             desc\u001b[38;5;241m=\u001b[39m\u001b[38;5;124m\"\u001b[39m\u001b[38;5;124mSet motor values\u001b[39m\u001b[38;5;124m\"\u001b[39m,\n\u001b[1;32m     82\u001b[0m             disable\u001b[38;5;241m=\u001b[39mcfg\u001b[38;5;241m.\u001b[39mTQDM_DISABLE,\n\u001b[1;32m     83\u001b[0m         ):\n\u001b[1;32m     84\u001b[0m             future\u001b[38;5;241m.\u001b[39mresult()\n\u001b[1;32m     85\u001b[0m \u001b[38;5;28;01melse\u001b[39;00m:\n",
      "File \u001b[0;32m/opt/anaconda3/lib/python3.12/site-packages/tqdm/notebook.py:250\u001b[0m, in \u001b[0;36mtqdm_notebook.__iter__\u001b[0;34m(self)\u001b[0m\n\u001b[1;32m    248\u001b[0m \u001b[38;5;28;01mtry\u001b[39;00m:\n\u001b[1;32m    249\u001b[0m     it \u001b[38;5;241m=\u001b[39m \u001b[38;5;28msuper\u001b[39m()\u001b[38;5;241m.\u001b[39m\u001b[38;5;21m__iter__\u001b[39m()\n\u001b[0;32m--> 250\u001b[0m     \u001b[38;5;28;01mfor\u001b[39;00m obj \u001b[38;5;129;01min\u001b[39;00m it:\n\u001b[1;32m    251\u001b[0m         \u001b[38;5;66;03m# return super(tqdm...) will not catch exception\u001b[39;00m\n\u001b[1;32m    252\u001b[0m         \u001b[38;5;28;01myield\u001b[39;00m obj\n\u001b[1;32m    253\u001b[0m \u001b[38;5;66;03m# NB: except ... [ as ...] breaks IPython async KeyboardInterrupt\u001b[39;00m\n",
      "File \u001b[0;32m/opt/anaconda3/lib/python3.12/site-packages/tqdm/std.py:1169\u001b[0m, in \u001b[0;36mtqdm.__iter__\u001b[0;34m(self)\u001b[0m\n\u001b[1;32m   1166\u001b[0m \u001b[38;5;66;03m# If the bar is disabled, then just walk the iterable\u001b[39;00m\n\u001b[1;32m   1167\u001b[0m \u001b[38;5;66;03m# (note: keep this check outside the loop for performance)\u001b[39;00m\n\u001b[1;32m   1168\u001b[0m \u001b[38;5;28;01mif\u001b[39;00m \u001b[38;5;28mself\u001b[39m\u001b[38;5;241m.\u001b[39mdisable:\n\u001b[0;32m-> 1169\u001b[0m     \u001b[38;5;28;01mfor\u001b[39;00m obj \u001b[38;5;129;01min\u001b[39;00m iterable:\n\u001b[1;32m   1170\u001b[0m         \u001b[38;5;28;01myield\u001b[39;00m obj\n\u001b[1;32m   1171\u001b[0m     \u001b[38;5;28;01mreturn\u001b[39;00m\n",
      "File \u001b[0;32m/opt/anaconda3/lib/python3.12/concurrent/futures/_base.py:243\u001b[0m, in \u001b[0;36mas_completed\u001b[0;34m(fs, timeout)\u001b[0m\n\u001b[1;32m    238\u001b[0m     \u001b[38;5;28;01mif\u001b[39;00m wait_timeout \u001b[38;5;241m<\u001b[39m \u001b[38;5;241m0\u001b[39m:\n\u001b[1;32m    239\u001b[0m         \u001b[38;5;28;01mraise\u001b[39;00m \u001b[38;5;167;01mTimeoutError\u001b[39;00m(\n\u001b[1;32m    240\u001b[0m                 \u001b[38;5;124m'\u001b[39m\u001b[38;5;132;01m%d\u001b[39;00m\u001b[38;5;124m (of \u001b[39m\u001b[38;5;132;01m%d\u001b[39;00m\u001b[38;5;124m) futures unfinished\u001b[39m\u001b[38;5;124m'\u001b[39m \u001b[38;5;241m%\u001b[39m (\n\u001b[1;32m    241\u001b[0m                 \u001b[38;5;28mlen\u001b[39m(pending), total_futures))\n\u001b[0;32m--> 243\u001b[0m waiter\u001b[38;5;241m.\u001b[39mevent\u001b[38;5;241m.\u001b[39mwait(wait_timeout)\n\u001b[1;32m    245\u001b[0m \u001b[38;5;28;01mwith\u001b[39;00m waiter\u001b[38;5;241m.\u001b[39mlock:\n\u001b[1;32m    246\u001b[0m     finished \u001b[38;5;241m=\u001b[39m waiter\u001b[38;5;241m.\u001b[39mfinished_futures\n",
      "File \u001b[0;32m/opt/anaconda3/lib/python3.12/threading.py:655\u001b[0m, in \u001b[0;36mEvent.wait\u001b[0;34m(self, timeout)\u001b[0m\n\u001b[1;32m    653\u001b[0m signaled \u001b[38;5;241m=\u001b[39m \u001b[38;5;28mself\u001b[39m\u001b[38;5;241m.\u001b[39m_flag\n\u001b[1;32m    654\u001b[0m \u001b[38;5;28;01mif\u001b[39;00m \u001b[38;5;129;01mnot\u001b[39;00m signaled:\n\u001b[0;32m--> 655\u001b[0m     signaled \u001b[38;5;241m=\u001b[39m \u001b[38;5;28mself\u001b[39m\u001b[38;5;241m.\u001b[39m_cond\u001b[38;5;241m.\u001b[39mwait(timeout)\n\u001b[1;32m    656\u001b[0m \u001b[38;5;28;01mreturn\u001b[39;00m signaled\n",
      "File \u001b[0;32m/opt/anaconda3/lib/python3.12/threading.py:355\u001b[0m, in \u001b[0;36mCondition.wait\u001b[0;34m(self, timeout)\u001b[0m\n\u001b[1;32m    353\u001b[0m \u001b[38;5;28;01mtry\u001b[39;00m:    \u001b[38;5;66;03m# restore state no matter what (e.g., KeyboardInterrupt)\u001b[39;00m\n\u001b[1;32m    354\u001b[0m     \u001b[38;5;28;01mif\u001b[39;00m timeout \u001b[38;5;129;01mis\u001b[39;00m \u001b[38;5;28;01mNone\u001b[39;00m:\n\u001b[0;32m--> 355\u001b[0m         waiter\u001b[38;5;241m.\u001b[39macquire()\n\u001b[1;32m    356\u001b[0m         gotit \u001b[38;5;241m=\u001b[39m \u001b[38;5;28;01mTrue\u001b[39;00m\n\u001b[1;32m    357\u001b[0m     \u001b[38;5;28;01melse\u001b[39;00m:\n",
      "\u001b[0;31mKeyboardInterrupt\u001b[0m: "
     ]
    }
   ],
   "source": [
    "prod_scan = scan(\n",
    "    motors=prod.ALL_HORIZONTAL_CK_CORRECTORS,\n",
    "    meters=prod.ALL_HORIZONTAL_POSITION_MONITORS,\n",
    "    checks=prod.ALL_CURRENT_MONITORS,\n",
    "    get_func=prod.GET_FUNC, \n",
    "    put_func=prod.PUT_FUNC,\n",
    "    verify_motor=prod.VERIFY_MOTOR, \n",
    "    max_retries=prod.MAX_TRIES,\n",
    "    delay=prod.DELAY,\n",
    "    tolerance=prod.TOLERANCE,\n",
    "    sample_size=prod.SAMPLE_SIZE,\n",
    "    save=prod.SAVE_SCAN,\n",
    "    path=prod.DIRNAME_DATA,\n",
    "    callback=[\n",
    "        clear_output, \n",
    "        add_plot_params(\n",
    "            \"meters\", \"meter_data\", \"Horizontal Position\", \"Devices\", \"x, mm\", \"meter_ranges\", \"meter_errors\"\n",
    "        )(plot_generic_data)\n",
    "    ], \n",
    "    save_original_motor_values=prod.SAVE_ORIGINAL_MOTOR_VALUES,\n",
    "    parallel=prod.PARALLEL,\n",
    "    strict_check=prod.STRICT_CHECK,\n",
    ")"
   ]
  },
  {
   "cell_type": "code",
   "execution_count": null,
   "id": "d9b50ab6-7153-4980-8199-8ac5c2c36dfc",
   "metadata": {},
   "outputs": [],
   "source": []
  }
 ],
 "metadata": {
  "kernelspec": {
   "display_name": "Python 3 (ipykernel)",
   "language": "python",
   "name": "python3"
  },
  "language_info": {
   "codemirror_mode": {
    "name": "ipython",
    "version": 3
   },
   "file_extension": ".py",
   "mimetype": "text/x-python",
   "name": "python",
   "nbconvert_exporter": "python",
   "pygments_lexer": "ipython3",
   "version": "3.12.2"
  }
 },
 "nbformat": 4,
 "nbformat_minor": 5
}
