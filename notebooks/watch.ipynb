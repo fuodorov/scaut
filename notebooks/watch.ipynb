{
 "cells": [
  {
   "cell_type": "markdown",
   "id": "d951d876-21fd-4d1a-b0ec-924ae2d7b740",
   "metadata": {},
   "source": [
    "## Scan"
   ]
  },
  {
   "cell_type": "code",
   "execution_count": 1,
   "id": "ba285189-9e01-42a0-b804-afa348b7be76",
   "metadata": {
    "editable": true,
    "slideshow": {
     "slide_type": ""
    },
    "tags": []
   },
   "outputs": [],
   "source": [
    "import sys\n",
    "\n",
    "sys.path.append(\"../\")"
   ]
  },
  {
   "cell_type": "code",
   "execution_count": 2,
   "id": "daa3862b-75cf-4c66-aa99-3ae5d0f61caa",
   "metadata": {},
   "outputs": [],
   "source": [
    "from settings import prod\n",
    "from scaut.scan import watch\n",
    "from scaut.scan.decorators import add_noise, add_plot_params\n",
    "from scaut.scan.utils import clear_output, plot_generic_data"
   ]
  },
  {
   "cell_type": "code",
   "execution_count": 5,
   "id": "14f808ac-69bb-497e-9ce1-3f3a30fa410b",
   "metadata": {
    "editable": true,
    "slideshow": {
     "slide_type": ""
    },
    "tags": []
   },
   "outputs": [
    {
     "name": "stderr",
     "output_type": "stream",
     "text": [
      "2025-02-13 10:13:12,057 - Scan - ERROR - Scan process stopped by user\n"
     ]
    },
    {
     "ename": "UnboundLocalError",
     "evalue": "cannot access local variable 'on_values' where it is not associated with a value",
     "output_type": "error",
     "traceback": [
      "\u001b[0;31m---------------------------------------------------------------------------\u001b[0m",
      "\u001b[0;31mUnboundLocalError\u001b[0m                         Traceback (most recent call last)",
      "Cell \u001b[0;32mIn[5], line 1\u001b[0m\n\u001b[0;32m----> 1\u001b[0m prod_scan \u001b[38;5;241m=\u001b[39m watch(\n\u001b[1;32m      2\u001b[0m     motors\u001b[38;5;241m=\u001b[39mprod\u001b[38;5;241m.\u001b[39mALL_HORIZONTAL_CK_CORRECTORS,\n\u001b[1;32m      3\u001b[0m     meters\u001b[38;5;241m=\u001b[39mprod\u001b[38;5;241m.\u001b[39mALL_HORIZONTAL_POSITION_MONITORS,\n\u001b[1;32m      4\u001b[0m     checks\u001b[38;5;241m=\u001b[39mprod\u001b[38;5;241m.\u001b[39mALL_CURRENT_MONITORS,\n\u001b[1;32m      5\u001b[0m     get_func\u001b[38;5;241m=\u001b[39mprod\u001b[38;5;241m.\u001b[39mGET_FUNC, \n\u001b[1;32m      6\u001b[0m     put_func\u001b[38;5;241m=\u001b[39mprod\u001b[38;5;241m.\u001b[39mPUT_FUNC,\n\u001b[1;32m      7\u001b[0m     verify_motor\u001b[38;5;241m=\u001b[39mprod\u001b[38;5;241m.\u001b[39mVERIFY_MOTOR, \n\u001b[1;32m      8\u001b[0m     max_retries\u001b[38;5;241m=\u001b[39mprod\u001b[38;5;241m.\u001b[39mMAX_TRIES,\n\u001b[1;32m      9\u001b[0m     delay\u001b[38;5;241m=\u001b[39mprod\u001b[38;5;241m.\u001b[39mDELAY,\n\u001b[1;32m     10\u001b[0m     tolerance\u001b[38;5;241m=\u001b[39mprod\u001b[38;5;241m.\u001b[39mTOLERANCE,\n\u001b[1;32m     11\u001b[0m     sample_size\u001b[38;5;241m=\u001b[39mprod\u001b[38;5;241m.\u001b[39mSAMPLE_SIZE,\n\u001b[1;32m     12\u001b[0m     save\u001b[38;5;241m=\u001b[39mprod\u001b[38;5;241m.\u001b[39mSAVE_SCAN,\n\u001b[1;32m     13\u001b[0m     path\u001b[38;5;241m=\u001b[39mprod\u001b[38;5;241m.\u001b[39mDIRNAME_DATA,\n\u001b[1;32m     14\u001b[0m     callback\u001b[38;5;241m=\u001b[39m[\n\u001b[1;32m     15\u001b[0m         clear_output, \n\u001b[1;32m     16\u001b[0m         add_plot_params(\n\u001b[1;32m     17\u001b[0m             \u001b[38;5;124m\"\u001b[39m\u001b[38;5;124mmeters\u001b[39m\u001b[38;5;124m\"\u001b[39m, \u001b[38;5;124m\"\u001b[39m\u001b[38;5;124mmeter_data\u001b[39m\u001b[38;5;124m\"\u001b[39m, \u001b[38;5;124m\"\u001b[39m\u001b[38;5;124mHorizontal Position\u001b[39m\u001b[38;5;124m\"\u001b[39m, \u001b[38;5;124m\"\u001b[39m\u001b[38;5;124mDevices\u001b[39m\u001b[38;5;124m\"\u001b[39m, \u001b[38;5;124m\"\u001b[39m\u001b[38;5;124mx, mm\u001b[39m\u001b[38;5;124m\"\u001b[39m, \u001b[38;5;124m\"\u001b[39m\u001b[38;5;124mmeter_ranges\u001b[39m\u001b[38;5;124m\"\u001b[39m, \u001b[38;5;124m\"\u001b[39m\u001b[38;5;124mmeter_errors\u001b[39m\u001b[38;5;124m\"\u001b[39m\n\u001b[1;32m     18\u001b[0m         )(plot_generic_data)\n\u001b[1;32m     19\u001b[0m     ], \n\u001b[1;32m     20\u001b[0m     save_original_motor_values\u001b[38;5;241m=\u001b[39mprod\u001b[38;5;241m.\u001b[39mSAVE_ORIGINAL_MOTOR_VALUES,\n\u001b[1;32m     21\u001b[0m     parallel\u001b[38;5;241m=\u001b[39mprod\u001b[38;5;241m.\u001b[39mPARALLEL,\n\u001b[1;32m     22\u001b[0m     strict_check\u001b[38;5;241m=\u001b[39mprod\u001b[38;5;241m.\u001b[39mSTRICT_CHECK,\n\u001b[1;32m     23\u001b[0m )\n",
      "File \u001b[0;32m~/Work/skif-utils/notebooks/../scaut/scan/decorators.py:336\u001b[0m, in \u001b[0;36mwatch_measurements.<locals>.decorator.<locals>.wrapper\u001b[0;34m(*args, **kwargs)\u001b[0m\n\u001b[1;32m    331\u001b[0m         scan_logger\u001b[38;5;241m.\u001b[39merror(\u001b[38;5;124m\"\u001b[39m\u001b[38;5;124mScan process stopped by user\u001b[39m\u001b[38;5;124m\"\u001b[39m)\n\u001b[1;32m    332\u001b[0m         \u001b[38;5;28;01mbreak\u001b[39;00m\n\u001b[1;32m    334\u001b[0m final_scan \u001b[38;5;241m=\u001b[39m scan_func(\n\u001b[1;32m    335\u001b[0m     meters\u001b[38;5;241m=\u001b[39mmeters,\n\u001b[0;32m--> 336\u001b[0m     motors\u001b[38;5;241m=\u001b[39m[(motor_names[i], [on_values[i]]) \u001b[38;5;28;01mfor\u001b[39;00m i \u001b[38;5;129;01min\u001b[39;00m \u001b[38;5;28mrange\u001b[39m(n_motors)],\n\u001b[1;32m    337\u001b[0m     previous_scan\u001b[38;5;241m=\u001b[39mprevious_scan,\n\u001b[1;32m    338\u001b[0m     \u001b[38;5;241m*\u001b[39m\u001b[38;5;241m*\u001b[39m{k: v \u001b[38;5;28;01mfor\u001b[39;00m k, v \u001b[38;5;129;01min\u001b[39;00m kwargs\u001b[38;5;241m.\u001b[39mitems() \u001b[38;5;28;01mif\u001b[39;00m k \u001b[38;5;129;01mnot\u001b[39;00m \u001b[38;5;129;01min\u001b[39;00m [\u001b[38;5;124m\"\u001b[39m\u001b[38;5;124mmotors\u001b[39m\u001b[38;5;124m\"\u001b[39m,\u001b[38;5;124m\"\u001b[39m\u001b[38;5;124mmeters\u001b[39m\u001b[38;5;124m\"\u001b[39m]}\n\u001b[1;32m    339\u001b[0m )\n\u001b[1;32m    340\u001b[0m \u001b[38;5;28;01mreturn\u001b[39;00m final_scan\n",
      "\u001b[0;31mUnboundLocalError\u001b[0m: cannot access local variable 'on_values' where it is not associated with a value"
     ]
    }
   ],
   "source": [
    "prod_scan = watch(\n",
    "    motors=prod.ALL_HORIZONTAL_CK_CORRECTORS,\n",
    "    meters=prod.ALL_HORIZONTAL_POSITION_MONITORS,\n",
    "    checks=prod.ALL_CURRENT_MONITORS,\n",
    "    get_func=prod.GET_FUNC, \n",
    "    put_func=prod.PUT_FUNC,\n",
    "    verify_motor=prod.VERIFY_MOTOR, \n",
    "    max_retries=prod.MAX_TRIES,\n",
    "    delay=prod.DELAY,\n",
    "    tolerance=prod.TOLERANCE,\n",
    "    sample_size=prod.SAMPLE_SIZE,\n",
    "    save=prod.SAVE_SCAN,\n",
    "    path=prod.DIRNAME_DATA,\n",
    "    callback=[\n",
    "        clear_output, \n",
    "        add_plot_params(\n",
    "            \"meters\", \"meter_data\", \"Horizontal Position\", \"Devices\", \"x, mm\", \"meter_ranges\", \"meter_errors\"\n",
    "        )(plot_generic_data)\n",
    "    ], \n",
    "    save_original_motor_values=prod.SAVE_ORIGINAL_MOTOR_VALUES,\n",
    "    parallel=prod.PARALLEL,\n",
    "    strict_check=prod.STRICT_CHECK,\n",
    ")"
   ]
  },
  {
   "cell_type": "code",
   "execution_count": null,
   "id": "aeb0c068-338c-4ebb-843d-9920101a283a",
   "metadata": {
    "editable": true,
    "slideshow": {
     "slide_type": ""
    },
    "tags": []
   },
   "outputs": [],
   "source": []
  }
 ],
 "metadata": {
  "kernelspec": {
   "display_name": "Python 3 (ipykernel)",
   "language": "python",
   "name": "python3"
  },
  "language_info": {
   "codemirror_mode": {
    "name": "ipython",
    "version": 3
   },
   "file_extension": ".py",
   "mimetype": "text/x-python",
   "name": "python",
   "nbconvert_exporter": "python",
   "pygments_lexer": "ipython3",
   "version": "3.12.2"
  }
 },
 "nbformat": 4,
 "nbformat_minor": 5
}
