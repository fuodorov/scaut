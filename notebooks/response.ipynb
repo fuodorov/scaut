{
 "cells": [
  {
   "cell_type": "markdown",
   "id": "4d4c0a4a-61dd-4f90-a9d8-14f4503e5454",
   "metadata": {},
   "source": [
    "# Response Measurements"
   ]
  },
  {
   "cell_type": "code",
   "execution_count": null,
   "id": "70ea5df5-df24-4538-9041-a7a844fb136d",
   "metadata": {},
   "outputs": [],
   "source": [
    "import sys\n",
    "\n",
    "sys.path.append(\"../\")"
   ]
  },
  {
   "cell_type": "code",
   "execution_count": null,
   "id": "13da2851-788a-4368-93a2-91b0e189b394",
   "metadata": {},
   "outputs": [],
   "source": [
    "import os\n",
    "\n",
    "from settings import dev as settings\n",
    "from src.scan import scan_response_measurements\n",
    "from src.scan.decorators import response_measurements, add_noise\n",
    "from src.scan.utils import plot_meters_data, plot_motors_data, plot_response_matrix, clear_output\n",
    "from src.elegant import eleget, eleput\n",
    "from src.core import config as cfg"
   ]
  },
  {
   "cell_type": "code",
   "execution_count": null,
   "id": "61bb978a-99eb-41e1-a87f-7aa1f20232e7",
   "metadata": {},
   "outputs": [],
   "source": [
    "data_scan = scan_response_measurements(\n",
    "    meters=settings.METERS, \n",
    "    motors=settings.MOTORS, \n",
    "    get_func=add_noise(settings.NOISE_LEVEL)(eleget), \n",
    "    put_func=eleput, \n",
    "    sample_size=settings.SAMPLE_SIZE,\n",
    "    verify_motor=settings.VERIFY_MOTOR,\n",
    "    max_retries=settings.MAX_TRIES,\n",
    "    delay=settings.DELAY,\n",
    "    tolerance=settings.TOLERANCE,\n",
    "    save=settings.SAVE_SCAN,\n",
    "    dirname=settings.DIRNAME_DATA,\n",
    "    callback=[clear_output, plot_meters_data, plot_motors_data, plot_response_matrix], \n",
    "    save_original_motor_values=settings.SAVE_ORIGINAL_MOTOR_VALUES,\n",
    ")"
   ]
  },
  {
   "cell_type": "code",
   "execution_count": null,
   "id": "72634f81-5094-419d-bc6d-4d00a436d2bb",
   "metadata": {},
   "outputs": [],
   "source": [
    "data_scan"
   ]
  },
  {
   "cell_type": "code",
   "execution_count": null,
   "id": "499849f5-f9eb-4537-a522-8e1eb7b6a442",
   "metadata": {},
   "outputs": [],
   "source": []
  },
  {
   "cell_type": "code",
   "execution_count": null,
   "id": "9ace3b86-3806-41c5-b98b-c7daeb8420c2",
   "metadata": {},
   "outputs": [],
   "source": []
  }
 ],
 "metadata": {
  "kernelspec": {
   "display_name": "Python 3 (ipykernel)",
   "language": "python",
   "name": "python3"
  },
  "language_info": {
   "codemirror_mode": {
    "name": "ipython",
    "version": 3
   },
   "file_extension": ".py",
   "mimetype": "text/x-python",
   "name": "python",
   "nbconvert_exporter": "python",
   "pygments_lexer": "ipython3",
   "version": "3.12.2"
  }
 },
 "nbformat": 4,
 "nbformat_minor": 5
}
