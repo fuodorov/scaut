{
 "cells": [
  {
   "cell_type": "markdown",
   "id": "718e3df0-7655-41a7-9708-856dc2678a4a",
   "metadata": {},
   "source": [
    "# Scan Accelerator Utils\n",
    "\n",
    "by [Vyacheslav Fedorov](https://fuodorov.github.io)\n",
    "\n",
    "- [plot accelerator structure](./visual.ipynb) (from elegant)\n",
    "- [simple scan with motors and meters](./scan.ipynb) (with epics devices)\n",
    "- [measure response matrix](./response.ipynb) (with epics devices)\n",
    "- [optimization with bayes](./bayes.ipynb) (with gauss process)\n"
   ]
  },
  {
   "cell_type": "code",
   "execution_count": null,
   "id": "a4e8dac4-e506-4a12-b58f-0c8c49a65b56",
   "metadata": {},
   "outputs": [],
   "source": []
  }
 ],
 "metadata": {
  "kernelspec": {
   "display_name": "Python 3 (ipykernel)",
   "language": "python",
   "name": "python3"
  },
  "language_info": {
   "codemirror_mode": {
    "name": "ipython",
    "version": 3
   },
   "file_extension": ".py",
   "mimetype": "text/x-python",
   "name": "python",
   "nbconvert_exporter": "python",
   "pygments_lexer": "ipython3",
   "version": "3.12.2"
  }
 },
 "nbformat": 4,
 "nbformat_minor": 5
}
