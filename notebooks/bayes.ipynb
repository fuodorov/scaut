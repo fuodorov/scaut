{
 "cells": [
  {
   "cell_type": "markdown",
   "id": "f0fea993-2672-49e9-b241-93f3cc80e8c0",
   "metadata": {},
   "source": [
    "# Bayesian Optimization"
   ]
  },
  {
   "cell_type": "code",
   "execution_count": 1,
   "id": "11a66b75-a243-4e0e-819c-0079eb509a8e",
   "metadata": {},
   "outputs": [],
   "source": [
    "import sys\n",
    "\n",
    "sys.path.append(\"../\")"
   ]
  },
  {
   "cell_type": "code",
   "execution_count": 2,
   "id": "0d7bcbda-ebd1-4622-906b-441ed246bee0",
   "metadata": {},
   "outputs": [],
   "source": [
    "from settings import dev, prod\n",
    "from scaut.scan import optimize\n",
    "from scaut.scan.decorators import add_noise\n",
    "from scaut.scan.utils import plot_meters_data, plot_motors_data, clear_output\n",
    "from scaut.core import config as cfg"
   ]
  },
  {
   "cell_type": "code",
   "execution_count": 3,
   "id": "de5d3bc7-aeb7-49fc-854b-59aa30040dcf",
   "metadata": {},
   "outputs": [
    {
     "name": "stdout",
     "output_type": "stream",
     "text": [
      "cannot connect to MG-LD:CKX1-I:Set\n",
      "cannot connect to MG-LD:CKX3-I:Set\n",
      "cannot connect to MG-LD:CKX4-I:Set\n",
      "cannot connect to MG-LD:CKX5-I:Set\n",
      "cannot connect to MG-LD:CKX2-I:Set\n",
      "cannot connect to MG-LD:CKX6-I:Set\n",
      "cannot connect to MG-LD:CKX7-I:Set\n",
      "cannot connect to MG-LD:CKX8-I:Set\n"
     ]
    },
    {
     "ename": "KeyboardInterrupt",
     "evalue": "",
     "output_type": "error",
     "traceback": [
      "\u001b[0;31m---------------------------------------------------------------------------\u001b[0m",
      "\u001b[0;31mKeyboardInterrupt\u001b[0m                         Traceback (most recent call last)",
      "File \u001b[0;32m~/Work/skif-utils/notebooks/../scaut/scan/utils.py:78\u001b[0m, in \u001b[0;36mset_motors_values\u001b[0;34m(motor_names, combination, get_func, put_func, verify_motor, max_retries, delay, tolerance, parallel)\u001b[0m\n\u001b[1;32m     64\u001b[0m futures \u001b[38;5;241m=\u001b[39m {\n\u001b[1;32m     65\u001b[0m     executor\u001b[38;5;241m.\u001b[39msubmit(\n\u001b[1;32m     66\u001b[0m         set_motor_value,\n\u001b[0;32m   (...)\u001b[0m\n\u001b[1;32m     76\u001b[0m     \u001b[38;5;28;01mfor\u001b[39;00m motor_name, motor_value \u001b[38;5;129;01min\u001b[39;00m \u001b[38;5;28mzip\u001b[39m(motor_names, combination)\n\u001b[1;32m     77\u001b[0m }\n\u001b[0;32m---> 78\u001b[0m \u001b[38;5;28;01mfor\u001b[39;00m future \u001b[38;5;129;01min\u001b[39;00m tqdm_notebook(\n\u001b[1;32m     79\u001b[0m     concurrent\u001b[38;5;241m.\u001b[39mfutures\u001b[38;5;241m.\u001b[39mas_completed(futures),\n\u001b[1;32m     80\u001b[0m     total\u001b[38;5;241m=\u001b[39m\u001b[38;5;28mlen\u001b[39m(futures),\n\u001b[1;32m     81\u001b[0m     desc\u001b[38;5;241m=\u001b[39m\u001b[38;5;124m\"\u001b[39m\u001b[38;5;124mSet motor values\u001b[39m\u001b[38;5;124m\"\u001b[39m,\n\u001b[1;32m     82\u001b[0m     disable\u001b[38;5;241m=\u001b[39mcfg\u001b[38;5;241m.\u001b[39mTQDM_DISABLE,\n\u001b[1;32m     83\u001b[0m ):\n\u001b[1;32m     84\u001b[0m     future\u001b[38;5;241m.\u001b[39mresult()\n",
      "File \u001b[0;32m/opt/anaconda3/lib/python3.12/site-packages/tqdm/notebook.py:250\u001b[0m, in \u001b[0;36mtqdm_notebook.__iter__\u001b[0;34m(self)\u001b[0m\n\u001b[1;32m    249\u001b[0m it \u001b[38;5;241m=\u001b[39m \u001b[38;5;28msuper\u001b[39m()\u001b[38;5;241m.\u001b[39m\u001b[38;5;21m__iter__\u001b[39m()\n\u001b[0;32m--> 250\u001b[0m \u001b[38;5;28;01mfor\u001b[39;00m obj \u001b[38;5;129;01min\u001b[39;00m it:\n\u001b[1;32m    251\u001b[0m     \u001b[38;5;66;03m# return super(tqdm...) will not catch exception\u001b[39;00m\n\u001b[1;32m    252\u001b[0m     \u001b[38;5;28;01myield\u001b[39;00m obj\n",
      "File \u001b[0;32m/opt/anaconda3/lib/python3.12/site-packages/tqdm/std.py:1169\u001b[0m, in \u001b[0;36mtqdm.__iter__\u001b[0;34m(self)\u001b[0m\n\u001b[1;32m   1168\u001b[0m \u001b[38;5;28;01mif\u001b[39;00m \u001b[38;5;28mself\u001b[39m\u001b[38;5;241m.\u001b[39mdisable:\n\u001b[0;32m-> 1169\u001b[0m     \u001b[38;5;28;01mfor\u001b[39;00m obj \u001b[38;5;129;01min\u001b[39;00m iterable:\n\u001b[1;32m   1170\u001b[0m         \u001b[38;5;28;01myield\u001b[39;00m obj\n",
      "File \u001b[0;32m/opt/anaconda3/lib/python3.12/concurrent/futures/_base.py:243\u001b[0m, in \u001b[0;36mas_completed\u001b[0;34m(fs, timeout)\u001b[0m\n\u001b[1;32m    239\u001b[0m         \u001b[38;5;28;01mraise\u001b[39;00m \u001b[38;5;167;01mTimeoutError\u001b[39;00m(\n\u001b[1;32m    240\u001b[0m                 \u001b[38;5;124m'\u001b[39m\u001b[38;5;132;01m%d\u001b[39;00m\u001b[38;5;124m (of \u001b[39m\u001b[38;5;132;01m%d\u001b[39;00m\u001b[38;5;124m) futures unfinished\u001b[39m\u001b[38;5;124m'\u001b[39m \u001b[38;5;241m%\u001b[39m (\n\u001b[1;32m    241\u001b[0m                 \u001b[38;5;28mlen\u001b[39m(pending), total_futures))\n\u001b[0;32m--> 243\u001b[0m waiter\u001b[38;5;241m.\u001b[39mevent\u001b[38;5;241m.\u001b[39mwait(wait_timeout)\n\u001b[1;32m    245\u001b[0m \u001b[38;5;28;01mwith\u001b[39;00m waiter\u001b[38;5;241m.\u001b[39mlock:\n",
      "File \u001b[0;32m/opt/anaconda3/lib/python3.12/threading.py:655\u001b[0m, in \u001b[0;36mEvent.wait\u001b[0;34m(self, timeout)\u001b[0m\n\u001b[1;32m    654\u001b[0m \u001b[38;5;28;01mif\u001b[39;00m \u001b[38;5;129;01mnot\u001b[39;00m signaled:\n\u001b[0;32m--> 655\u001b[0m     signaled \u001b[38;5;241m=\u001b[39m \u001b[38;5;28mself\u001b[39m\u001b[38;5;241m.\u001b[39m_cond\u001b[38;5;241m.\u001b[39mwait(timeout)\n\u001b[1;32m    656\u001b[0m \u001b[38;5;28;01mreturn\u001b[39;00m signaled\n",
      "File \u001b[0;32m/opt/anaconda3/lib/python3.12/threading.py:355\u001b[0m, in \u001b[0;36mCondition.wait\u001b[0;34m(self, timeout)\u001b[0m\n\u001b[1;32m    354\u001b[0m \u001b[38;5;28;01mif\u001b[39;00m timeout \u001b[38;5;129;01mis\u001b[39;00m \u001b[38;5;28;01mNone\u001b[39;00m:\n\u001b[0;32m--> 355\u001b[0m     waiter\u001b[38;5;241m.\u001b[39macquire()\n\u001b[1;32m    356\u001b[0m     gotit \u001b[38;5;241m=\u001b[39m \u001b[38;5;28;01mTrue\u001b[39;00m\n",
      "\u001b[0;31mKeyboardInterrupt\u001b[0m: ",
      "\nDuring handling of the above exception, another exception occurred:\n",
      "\u001b[0;31mKeyboardInterrupt\u001b[0m                         Traceback (most recent call last)",
      "Cell \u001b[0;32mIn[3], line 1\u001b[0m\n\u001b[0;32m----> 1\u001b[0m prod_scan \u001b[38;5;241m=\u001b[39m optimize(\n\u001b[1;32m      2\u001b[0m     motors\u001b[38;5;241m=\u001b[39m[[name, [\u001b[38;5;241m0\u001b[39m, \u001b[38;5;241m0.1\u001b[39m]] \u001b[38;5;28;01mfor\u001b[39;00m name, _ \u001b[38;5;129;01min\u001b[39;00m prod\u001b[38;5;241m.\u001b[39mALL_HORIZONTAL_CK_CORRECTORS],\n\u001b[1;32m      3\u001b[0m     meters\u001b[38;5;241m=\u001b[39mprod\u001b[38;5;241m.\u001b[39mALL_HORIZONTAL_POSITION_MONITORS,\n\u001b[1;32m      4\u001b[0m     checks\u001b[38;5;241m=\u001b[39mprod\u001b[38;5;241m.\u001b[39mALL_CURRENT_MONITORS,\n\u001b[1;32m      5\u001b[0m     get_func\u001b[38;5;241m=\u001b[39mprod\u001b[38;5;241m.\u001b[39mGET_FUNC, \n\u001b[1;32m      6\u001b[0m     put_func\u001b[38;5;241m=\u001b[39mprod\u001b[38;5;241m.\u001b[39mPUT_FUNC,\n\u001b[1;32m      7\u001b[0m     verify_motor\u001b[38;5;241m=\u001b[39mprod\u001b[38;5;241m.\u001b[39mVERIFY_MOTOR, \n\u001b[1;32m      8\u001b[0m     max_retries\u001b[38;5;241m=\u001b[39mprod\u001b[38;5;241m.\u001b[39mMAX_TRIES,\n\u001b[1;32m      9\u001b[0m     delay\u001b[38;5;241m=\u001b[39mprod\u001b[38;5;241m.\u001b[39mDELAY,\n\u001b[1;32m     10\u001b[0m     tolerance\u001b[38;5;241m=\u001b[39mprod\u001b[38;5;241m.\u001b[39mTOLERANCE,\n\u001b[1;32m     11\u001b[0m     sample_size\u001b[38;5;241m=\u001b[39mprod\u001b[38;5;241m.\u001b[39mSAMPLE_SIZE,\n\u001b[1;32m     12\u001b[0m     save\u001b[38;5;241m=\u001b[39mprod\u001b[38;5;241m.\u001b[39mSAVE_SCAN,\n\u001b[1;32m     13\u001b[0m     path\u001b[38;5;241m=\u001b[39mprod\u001b[38;5;241m.\u001b[39mDIRNAME_DATA,\n\u001b[1;32m     14\u001b[0m     callback\u001b[38;5;241m=\u001b[39m[\n\u001b[1;32m     15\u001b[0m         clear_output, \n\u001b[1;32m     16\u001b[0m         plot_meters_data,\n\u001b[1;32m     17\u001b[0m         plot_motors_data,\n\u001b[1;32m     18\u001b[0m     ], \n\u001b[1;32m     19\u001b[0m     save_original_motor_values\u001b[38;5;241m=\u001b[39mprod\u001b[38;5;241m.\u001b[39mSAVE_ORIGINAL_MOTOR_VALUES,\n\u001b[1;32m     20\u001b[0m     parallel\u001b[38;5;241m=\u001b[39mprod\u001b[38;5;241m.\u001b[39mPARALLEL,\n\u001b[1;32m     21\u001b[0m     strict_check\u001b[38;5;241m=\u001b[39mprod\u001b[38;5;241m.\u001b[39mSTRICT_CHECK,\n\u001b[1;32m     22\u001b[0m )\n",
      "File \u001b[0;32m~/Work/skif-utils/notebooks/../scaut/scan/decorators.py:197\u001b[0m, in \u001b[0;36mbayesian_optimization.<locals>.decorator.<locals>.wrapper\u001b[0;34m(*args, **kwargs)\u001b[0m\n\u001b[1;32m    194\u001b[0m     motor_order\u001b[38;5;241m.\u001b[39mappend(name)\n\u001b[1;32m    196\u001b[0m scan_logger\u001b[38;5;241m.\u001b[39minfo(\u001b[38;5;124m\"\u001b[39m\u001b[38;5;124mPerforming a basic scan with the initial values of the motors.\u001b[39m\u001b[38;5;124m\"\u001b[39m)\n\u001b[0;32m--> 197\u001b[0m baseline_result \u001b[38;5;241m=\u001b[39m scan_func(\n\u001b[1;32m    198\u001b[0m     meters\u001b[38;5;241m=\u001b[39mmeters,\n\u001b[1;32m    199\u001b[0m     motors\u001b[38;5;241m=\u001b[39m[(name, [val]) \u001b[38;5;28;01mfor\u001b[39;00m name, val \u001b[38;5;129;01min\u001b[39;00m \u001b[38;5;28mzip\u001b[39m(motor_names, off_values)],\n\u001b[1;32m    200\u001b[0m     \u001b[38;5;241m*\u001b[39margs,\n\u001b[1;32m    201\u001b[0m     \u001b[38;5;241m*\u001b[39m\u001b[38;5;241m*\u001b[39m{k: v \u001b[38;5;28;01mfor\u001b[39;00m k, v \u001b[38;5;129;01min\u001b[39;00m kwargs\u001b[38;5;241m.\u001b[39mitems() \u001b[38;5;28;01mif\u001b[39;00m k \u001b[38;5;129;01mnot\u001b[39;00m \u001b[38;5;129;01min\u001b[39;00m [\u001b[38;5;124m\"\u001b[39m\u001b[38;5;124mmotors\u001b[39m\u001b[38;5;124m\"\u001b[39m, \u001b[38;5;124m\"\u001b[39m\u001b[38;5;124mmeters\u001b[39m\u001b[38;5;124m\"\u001b[39m]}\n\u001b[1;32m    202\u001b[0m )\n\u001b[1;32m    203\u001b[0m previous_scan \u001b[38;5;241m=\u001b[39m baseline_result\n\u001b[1;32m    205\u001b[0m baseline_meter_values \u001b[38;5;241m=\u001b[39m {}\n",
      "File \u001b[0;32m~/Work/skif-utils/notebooks/../scaut/scan/__init__.py:129\u001b[0m, in \u001b[0;36moptimize\u001b[0;34m(*args, **kwargs)\u001b[0m\n\u001b[1;32m    127\u001b[0m \u001b[38;5;129m@bayesian_optimization\u001b[39m(targets\u001b[38;5;241m=\u001b[39m{}, penalty\u001b[38;5;241m=\u001b[39mcfg\u001b[38;5;241m.\u001b[39mSCAN_BAYESIAN_OPTIMIZATION_PENALTY, n_calls\u001b[38;5;241m=\u001b[39mcfg\u001b[38;5;241m.\u001b[39mSCAN_BAYESIAN_OPTIMIZATION_N_CALLS, random_state\u001b[38;5;241m=\u001b[39mcfg\u001b[38;5;241m.\u001b[39mSCAN_RANDOM_STATE, minimize\u001b[38;5;241m=\u001b[39mcfg\u001b[38;5;241m.\u001b[39mSCAN_BAYESIAN_OPTIMIZATION_MINIMIZE)\n\u001b[1;32m    128\u001b[0m \u001b[38;5;28;01mdef\u001b[39;00m \u001b[38;5;21moptimize\u001b[39m(\u001b[38;5;241m*\u001b[39margs, \u001b[38;5;241m*\u001b[39m\u001b[38;5;241m*\u001b[39mkwargs):\n\u001b[0;32m--> 129\u001b[0m     \u001b[38;5;28;01mreturn\u001b[39;00m scan(\u001b[38;5;241m*\u001b[39margs, \u001b[38;5;241m*\u001b[39m\u001b[38;5;241m*\u001b[39mkwargs)\n",
      "File \u001b[0;32m~/Work/skif-utils/notebooks/../scaut/scan/__init__.py:90\u001b[0m, in \u001b[0;36mscan\u001b[0;34m(meters, motors, checks, get_func, put_func, verify_motor, max_retries, delay, tolerance, previous_scan, save, path, name, callback, save_original_motor_values, sample_size, parallel, repeat, strict_check)\u001b[0m\n\u001b[1;32m     88\u001b[0m \u001b[38;5;28;01mexcept\u001b[39;00m \u001b[38;5;167;01mKeyboardInterrupt\u001b[39;00m \u001b[38;5;28;01mas\u001b[39;00m e:\n\u001b[1;32m     89\u001b[0m     scan_logger\u001b[38;5;241m.\u001b[39merror(\u001b[38;5;124m\"\u001b[39m\u001b[38;5;124mScan process stopped by user\u001b[39m\u001b[38;5;124m\"\u001b[39m)\n\u001b[0;32m---> 90\u001b[0m     \u001b[38;5;28;01mraise\u001b[39;00m e\n\u001b[1;32m     92\u001b[0m \u001b[38;5;28;01mexcept\u001b[39;00m \u001b[38;5;167;01mException\u001b[39;00m \u001b[38;5;28;01mas\u001b[39;00m e:\n\u001b[1;32m     93\u001b[0m     scan_logger\u001b[38;5;241m.\u001b[39mexception(\u001b[38;5;124mf\u001b[39m\u001b[38;5;124m\"\u001b[39m\u001b[38;5;124mError during scan process: \u001b[39m\u001b[38;5;132;01m{\u001b[39;00me\u001b[38;5;132;01m}\u001b[39;00m\u001b[38;5;124m\"\u001b[39m)\n",
      "File \u001b[0;32m~/Work/skif-utils/notebooks/../scaut/scan/__init__.py:62\u001b[0m, in \u001b[0;36mscan\u001b[0;34m(meters, motors, checks, get_func, put_func, verify_motor, max_retries, delay, tolerance, previous_scan, save, path, name, callback, save_original_motor_values, sample_size, parallel, repeat, strict_check)\u001b[0m\n\u001b[1;32m     60\u001b[0m \u001b[38;5;28;01mfor\u001b[39;00m step_index, combination \u001b[38;5;129;01min\u001b[39;00m \u001b[38;5;28menumerate\u001b[39m(all_combinations\u001b[38;5;241m*\u001b[39mrepeat):\n\u001b[1;32m     61\u001b[0m     scan_logger\u001b[38;5;241m.\u001b[39minfo(\u001b[38;5;124mf\u001b[39m\u001b[38;5;124m\"\u001b[39m\u001b[38;5;124mStep \u001b[39m\u001b[38;5;132;01m{\u001b[39;00mstep_index\u001b[38;5;250m \u001b[39m\u001b[38;5;241m+\u001b[39m\u001b[38;5;250m \u001b[39m\u001b[38;5;241m1\u001b[39m\u001b[38;5;132;01m}\u001b[39;00m\u001b[38;5;124m/\u001b[39m\u001b[38;5;132;01m{\u001b[39;00m\u001b[38;5;28mlen\u001b[39m(all_combinations)\u001b[38;5;132;01m}\u001b[39;00m\u001b[38;5;124m: Setting motor combination: \u001b[39m\u001b[38;5;132;01m{\u001b[39;00mcombination\u001b[38;5;132;01m}\u001b[39;00m\u001b[38;5;124m\"\u001b[39m)\n\u001b[0;32m---> 62\u001b[0m     set_motors_values(motor_names, combination, get_func, put_func, verify_motor, max_retries, delay, tolerance, parallel)\n\u001b[1;32m     63\u001b[0m     check_data, check_errors \u001b[38;5;241m=\u001b[39m get_meters_data(check_names, get_func, sample_size, delay, parallel, check_ranges, strict_check)\n\u001b[1;32m     64\u001b[0m     scan_logger\u001b[38;5;241m.\u001b[39minfo(\u001b[38;5;124mf\u001b[39m\u001b[38;5;124m\"\u001b[39m\u001b[38;5;124mCollected data from checks: \u001b[39m\u001b[38;5;132;01m{\u001b[39;00mcheck_data\u001b[38;5;132;01m}\u001b[39;00m\u001b[38;5;124m\"\u001b[39m)\n",
      "File \u001b[0;32m~/Work/skif-utils/notebooks/../scaut/scan/utils.py:63\u001b[0m, in \u001b[0;36mset_motors_values\u001b[0;34m(motor_names, combination, get_func, put_func, verify_motor, max_retries, delay, tolerance, parallel)\u001b[0m\n\u001b[1;32m     60\u001b[0m \u001b[38;5;28;01mdef\u001b[39;00m \u001b[38;5;21mset_motors_values\u001b[39m(motor_names, combination, get_func, put_func, verify_motor,\n\u001b[1;32m     61\u001b[0m                       max_retries, delay, tolerance, parallel\u001b[38;5;241m=\u001b[39m\u001b[38;5;28;01mFalse\u001b[39;00m):\n\u001b[1;32m     62\u001b[0m     \u001b[38;5;28;01mif\u001b[39;00m parallel:\n\u001b[0;32m---> 63\u001b[0m         \u001b[38;5;28;01mwith\u001b[39;00m concurrent\u001b[38;5;241m.\u001b[39mfutures\u001b[38;5;241m.\u001b[39mThreadPoolExecutor() \u001b[38;5;28;01mas\u001b[39;00m executor:\n\u001b[1;32m     64\u001b[0m             futures \u001b[38;5;241m=\u001b[39m {\n\u001b[1;32m     65\u001b[0m                 executor\u001b[38;5;241m.\u001b[39msubmit(\n\u001b[1;32m     66\u001b[0m                     set_motor_value,\n\u001b[0;32m   (...)\u001b[0m\n\u001b[1;32m     76\u001b[0m                 \u001b[38;5;28;01mfor\u001b[39;00m motor_name, motor_value \u001b[38;5;129;01min\u001b[39;00m \u001b[38;5;28mzip\u001b[39m(motor_names, combination)\n\u001b[1;32m     77\u001b[0m             }\n\u001b[1;32m     78\u001b[0m             \u001b[38;5;28;01mfor\u001b[39;00m future \u001b[38;5;129;01min\u001b[39;00m tqdm_notebook(\n\u001b[1;32m     79\u001b[0m                 concurrent\u001b[38;5;241m.\u001b[39mfutures\u001b[38;5;241m.\u001b[39mas_completed(futures),\n\u001b[1;32m     80\u001b[0m                 total\u001b[38;5;241m=\u001b[39m\u001b[38;5;28mlen\u001b[39m(futures),\n\u001b[1;32m     81\u001b[0m                 desc\u001b[38;5;241m=\u001b[39m\u001b[38;5;124m\"\u001b[39m\u001b[38;5;124mSet motor values\u001b[39m\u001b[38;5;124m\"\u001b[39m,\n\u001b[1;32m     82\u001b[0m                 disable\u001b[38;5;241m=\u001b[39mcfg\u001b[38;5;241m.\u001b[39mTQDM_DISABLE,\n\u001b[1;32m     83\u001b[0m             ):\n",
      "File \u001b[0;32m/opt/anaconda3/lib/python3.12/concurrent/futures/_base.py:647\u001b[0m, in \u001b[0;36mExecutor.__exit__\u001b[0;34m(self, exc_type, exc_val, exc_tb)\u001b[0m\n\u001b[1;32m    646\u001b[0m \u001b[38;5;28;01mdef\u001b[39;00m \u001b[38;5;21m__exit__\u001b[39m(\u001b[38;5;28mself\u001b[39m, exc_type, exc_val, exc_tb):\n\u001b[0;32m--> 647\u001b[0m     \u001b[38;5;28mself\u001b[39m\u001b[38;5;241m.\u001b[39mshutdown(wait\u001b[38;5;241m=\u001b[39m\u001b[38;5;28;01mTrue\u001b[39;00m)\n\u001b[1;32m    648\u001b[0m     \u001b[38;5;28;01mreturn\u001b[39;00m \u001b[38;5;28;01mFalse\u001b[39;00m\n",
      "File \u001b[0;32m/opt/anaconda3/lib/python3.12/concurrent/futures/thread.py:238\u001b[0m, in \u001b[0;36mThreadPoolExecutor.shutdown\u001b[0;34m(self, wait, cancel_futures)\u001b[0m\n\u001b[1;32m    236\u001b[0m \u001b[38;5;28;01mif\u001b[39;00m wait:\n\u001b[1;32m    237\u001b[0m     \u001b[38;5;28;01mfor\u001b[39;00m t \u001b[38;5;129;01min\u001b[39;00m \u001b[38;5;28mself\u001b[39m\u001b[38;5;241m.\u001b[39m_threads:\n\u001b[0;32m--> 238\u001b[0m         t\u001b[38;5;241m.\u001b[39mjoin()\n",
      "File \u001b[0;32m/opt/anaconda3/lib/python3.12/threading.py:1147\u001b[0m, in \u001b[0;36mThread.join\u001b[0;34m(self, timeout)\u001b[0m\n\u001b[1;32m   1144\u001b[0m     \u001b[38;5;28;01mraise\u001b[39;00m \u001b[38;5;167;01mRuntimeError\u001b[39;00m(\u001b[38;5;124m\"\u001b[39m\u001b[38;5;124mcannot join current thread\u001b[39m\u001b[38;5;124m\"\u001b[39m)\n\u001b[1;32m   1146\u001b[0m \u001b[38;5;28;01mif\u001b[39;00m timeout \u001b[38;5;129;01mis\u001b[39;00m \u001b[38;5;28;01mNone\u001b[39;00m:\n\u001b[0;32m-> 1147\u001b[0m     \u001b[38;5;28mself\u001b[39m\u001b[38;5;241m.\u001b[39m_wait_for_tstate_lock()\n\u001b[1;32m   1148\u001b[0m \u001b[38;5;28;01melse\u001b[39;00m:\n\u001b[1;32m   1149\u001b[0m     \u001b[38;5;66;03m# the behavior of a negative timeout isn't documented, but\u001b[39;00m\n\u001b[1;32m   1150\u001b[0m     \u001b[38;5;66;03m# historically .join(timeout=x) for x<0 has acted as if timeout=0\u001b[39;00m\n\u001b[1;32m   1151\u001b[0m     \u001b[38;5;28mself\u001b[39m\u001b[38;5;241m.\u001b[39m_wait_for_tstate_lock(timeout\u001b[38;5;241m=\u001b[39m\u001b[38;5;28mmax\u001b[39m(timeout, \u001b[38;5;241m0\u001b[39m))\n",
      "File \u001b[0;32m/opt/anaconda3/lib/python3.12/threading.py:1167\u001b[0m, in \u001b[0;36mThread._wait_for_tstate_lock\u001b[0;34m(self, block, timeout)\u001b[0m\n\u001b[1;32m   1164\u001b[0m     \u001b[38;5;28;01mreturn\u001b[39;00m\n\u001b[1;32m   1166\u001b[0m \u001b[38;5;28;01mtry\u001b[39;00m:\n\u001b[0;32m-> 1167\u001b[0m     \u001b[38;5;28;01mif\u001b[39;00m lock\u001b[38;5;241m.\u001b[39macquire(block, timeout):\n\u001b[1;32m   1168\u001b[0m         lock\u001b[38;5;241m.\u001b[39mrelease()\n\u001b[1;32m   1169\u001b[0m         \u001b[38;5;28mself\u001b[39m\u001b[38;5;241m.\u001b[39m_stop()\n",
      "\u001b[0;31mKeyboardInterrupt\u001b[0m: "
     ]
    }
   ],
   "source": [
    "prod_scan = optimize(\n",
    "    motors=[[name, [0, 0.1]] for name, _ in prod.ALL_HORIZONTAL_CK_CORRECTORS],\n",
    "    meters=prod.ALL_HORIZONTAL_POSITION_MONITORS,\n",
    "    checks=prod.ALL_CURRENT_MONITORS,\n",
    "    get_func=prod.GET_FUNC, \n",
    "    put_func=prod.PUT_FUNC,\n",
    "    verify_motor=prod.VERIFY_MOTOR, \n",
    "    max_retries=prod.MAX_TRIES,\n",
    "    delay=prod.DELAY,\n",
    "    tolerance=prod.TOLERANCE,\n",
    "    sample_size=prod.SAMPLE_SIZE,\n",
    "    save=prod.SAVE_SCAN,\n",
    "    path=prod.DIRNAME_DATA,\n",
    "    callback=[\n",
    "        clear_output, \n",
    "        plot_meters_data,\n",
    "        plot_motors_data,\n",
    "    ], \n",
    "    save_original_motor_values=prod.SAVE_ORIGINAL_MOTOR_VALUES,\n",
    "    parallel=prod.PARALLEL,\n",
    "    strict_check=prod.STRICT_CHECK,\n",
    ")"
   ]
  },
  {
   "cell_type": "code",
   "execution_count": null,
   "id": "83e5bda7-0b26-4205-81b8-800beff13727",
   "metadata": {},
   "outputs": [],
   "source": []
  }
 ],
 "metadata": {
  "kernelspec": {
   "display_name": "Python 3 (ipykernel)",
   "language": "python",
   "name": "python3"
  },
  "language_info": {
   "codemirror_mode": {
    "name": "ipython",
    "version": 3
   },
   "file_extension": ".py",
   "mimetype": "text/x-python",
   "name": "python",
   "nbconvert_exporter": "python",
   "pygments_lexer": "ipython3",
   "version": "3.12.2"
  }
 },
 "nbformat": 4,
 "nbformat_minor": 5
}
